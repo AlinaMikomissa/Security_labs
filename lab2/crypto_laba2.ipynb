{
 "cells": [
  {
   "cell_type": "code",
   "execution_count": 2,
   "metadata": {},
   "outputs": [],
   "source": [
    "import re, sys, os\n",
    "from pprint import pprint\n",
    "from pathlib import Path\n",
    "from operator import xor\n",
    "from collections import defaultdict, Counter\n",
    "\n",
    "patterns = [\n",
    "    (b' %s ', bytes),\n",
    "    (b' %s. ', bytes),\n",
    "    (b' %s,', bytes),\n",
    "    (b' %s.', bytes),\n",
    "    (b' %s, ', bytes),\n",
    "    (b'. %s ', bytes),\n",
    "    (b'. %s ', bytes.title),\n",
    "    (b', %s ', bytes),\n",
    "    (b'.%s ', bytes),\n",
    "    (b'.%s ', bytes.title),\n",
    "    (b',%s ', bytes),\n",
    "]\n",
    "\n",
    "def test_rez(rez):\n",
    "    ss = rez.split()  # .lower()\n",
    "    for s in ss:\n",
    "        m = re.match(rb'^([A-Z]?[a-z]+-?[a-z]*)|(\\d+[-.,]?\\d*)[.,]?$', s)\n",
    "#        m = re.match(rb'^[-A-Za-z0-9.,]+$', s)\n",
    "        if not m:\n",
    "            return\n",
    "    return True"
   ]
  },
  {
   "cell_type": "code",
   "execution_count": 3,
   "metadata": {},
   "outputs": [
    {
     "name": "stdout",
     "output_type": "stream",
     "text": [
      "19\n",
      "1013\n"
     ]
    }
   ],
   "source": [
    "def hexToBytes(s):\n",
    "    bs = []\n",
    "    for i in range(0, len(s), 2):\n",
    "        scod = s[i: i + 2]\n",
    "        bs.append(int(scod, 16))\n",
    "    return  bytes(bs)\n",
    "\n",
    "# Зашифрований текст, перетворений на байтові рядки\n",
    "txt1 = Path(\"shifrovka.txt\").read_text()\n",
    "lines = [hexToBytes(s.strip()) for s in txt1.splitlines() if s.strip()]\n",
    "# lines = dict(enumerate(lines))\n",
    "print(len(lines))\n",
    "\n",
    "txt2 = Path(\"en_words.txt\").read_text()\n",
    "words = [bytes(s.strip(), encoding='utf8') for s in txt2.splitlines() if s.strip()]\n",
    "words = sorted(words, key=len, reverse=True) \n",
    "print(len(words))"
   ]
  },
  {
   "cell_type": "code",
   "execution_count": 4,
   "metadata": {},
   "outputs": [],
   "source": [
    "# сортовані по спаду довжині рядка\n",
    "lines2 = sorted(lines, reverse=True, key=len)\n",
    "# несортовані, порядок як у початковій шифровці\n",
    "# lines2 = lines"
   ]
  },
  {
   "cell_type": "code",
   "execution_count": 5,
   "metadata": {},
   "outputs": [
    {
     "name": "stdout",
     "output_type": "stream",
     "text": [
      "позиції 001111111111222222222233333333334444444444\n",
      "01234567890123456789012345678901234567890123456789\n",
      "jOr woo would bear tde whips and scorns .*lx,!<)\n",
      "xH'opwressor's wrong  the proud man's co/89a   )\n",
      "xHe pfngs of dispriz+d love, the law's d$ -ui\n",
      "xHe iisolence of offece, and the spurns\n",
      "xHat watient merit oj th'unworthy takes,\n",
      "{Hen oe himself mighx his quietus make\n",
      "{Ith f bare bodkin? [ho would fardels be >`\n",
      "xO grrnt and sweat ubder a weary life,\n",
      "nUt toat the dread oj something after de 8$ \n",
      "xHe uidiscovere'd coyntry, from whose bo4>\"\n",
      "bO trfveller returns  puzzles the will,\n",
      "mNd mfkes us rather near those ills we h :)\n",
      "xHan aly to others tdat we know not of?\n",
      "xHus donscience doth,make cowards of us     \n",
      "mNd tous the native due of resolution\n",
      "eS sidklied o'er witd the pale cast of t)#9k-8u\n",
      "mNd eiterprises of g~eat pith and moment\n",
      "{Ith shis regard theer currents turn awr8\n",
      "mNd lhse the name of,action.\n"
     ]
    }
   ],
   "source": [
    "# Якщо кожний рядок зашифрований спільним ключем (послідовністю байтів),\n",
    "# спробуємо знайти можливі значення і їх статистику для кожного байту\n",
    "rez_codes = {}\n",
    "for word0 in words:\n",
    "    for ps in patterns:\n",
    "        word = ps[1](ps[0] % word0)\n",
    "        # print(word)\n",
    "        # зсувом слова word для XOR кожної пари рядків шукаємо правдоподібний текст\n",
    "        # якщо він правдоподібний для попередніх і наступних рядків, то скоріш за все\n",
    "        # слово правильне і треба добавити статистику для цих позицій\n",
    "        # (можна не тільки сусідніх, а в будьяких, тільки це накладніше)\n",
    "        for L in range(1, len(lines2) - 1):\n",
    "            # результат побайтного XOR для поточного і поаереднього рядків\n",
    "            xorL0 = bytes(map(xor, lines2[L], lines2[L-1]))\n",
    "            # результат побайтного XOR для поточного і наступного рядків\n",
    "            xorL2 = bytes(map(xor, lines2[L], lines2[L+1]))\n",
    "            # готовимо позицію зсувів\n",
    "            for i in range(min(len(xorL0), len(xorL2)) - len(word) + 1):\n",
    "                # одержуемо результати з зсунутими word-ами\n",
    "                rez0 = bytes(map(xor, word, xorL0[i:]))\n",
    "                rez2 = bytes(map(xor, word, xorL2[i:]))\n",
    "                # перевіряємо правдоподібність результатів\n",
    "                if test_rez(rez0) and test_rez(rez2):\n",
    "                    # результати правдоподібні, добавляемо статистику\n",
    "                    icodes = bytes(map(xor, word, lines2[L][i:]))\n",
    "                    for j, cod in enumerate(icodes):\n",
    "                        rez_codes.setdefault(i + j, Counter())[cod] += 1\n",
    "rez_codes = {n: kvs.most_common(1)[0][0] for n, kvs in rez_codes.items()}\n",
    "def_code = 0x42\n",
    "print('''\\\n",
    "позиції 001111111111222222222233333333334444444444\n",
    "01234567890123456789012345678901234567890123456789''')\n",
    "for line in lines:\n",
    "    rez = []\n",
    "    for i, b in enumerate(line):\n",
    "        ch = b ^ rez_codes.get(i, def_code)\n",
    "        rez.append(ch)\n",
    "    print(bytes(rez).decode(encoding='utf8', errors='replace'))"
   ]
  },
  {
   "cell_type": "code",
   "execution_count": 7,
   "metadata": {},
   "outputs": [
    {
     "name": "stdout",
     "output_type": "stream",
     "text": [
      "for who would bear the whips and scorns of timen\n",
      "th'oppressor's wrong, the proud man's contumelyn\n",
      "the pangs of dispriz'd love, the law's delay,\n",
      "the insolence of office, and the spurns\n",
      "that patient merit of th'unworthy takes,\n",
      "when he himself might his quietus make\n",
      "with a bare bodkin? Who would fardels bear,\n",
      "to grunt and sweat under a weary life,\n",
      "but that the dread of something after death,\n",
      "the undiscovere'd country, from whose bourn\n",
      "no traveller returns, puzzles the will,\n",
      "and makes us rather bear those ills we have\n",
      "than fly to others that we know not of?\n",
      "thus conscience doth make cowards of us all,\n",
      "and thus the native hue of resolution\n",
      "is sicklied o'er with the pale cast of thought,\n",
      "and enterprises of great pith and moment\n",
      "with this regard their currents turn awry\n",
      "and lose the name of action.\n"
     ]
    }
   ],
   "source": [
    "from copy import deepcopy\n",
    "from functools import reduce \n",
    "\n",
    "rez2_codes = deepcopy(rez_codes)\n",
    "\n",
    "# Позиції, яких необхідно замінити символи\n",
    "manuals = {\n",
    "  5: b'oh', \n",
    " 20: b\"dh\", \n",
    "  0: b'ma', \n",
    "  1: b'Nn', \n",
    " 40: b'n/', \n",
    " 41: b't8', \n",
    " 42: b'u9', \n",
    " 43: b'ma', \n",
    " 44: b'e ', \n",
    " 45: b'l ', \n",
    " 46: b'y ', \n",
    " 47: b',k', \n",
    "}\n",
    "# Зміна кодів для заміни символів в позиціях\n",
    "for p, x in manuals.items():\n",
    "    rez2_codes[p] = rez2_codes.get(p, def_code) ^ reduce(xor, x, 0)\n",
    "\n",
    "for line in lines:\n",
    "    rez = []\n",
    "    for i, b in enumerate(line):\n",
    "        ch = b ^ rez2_codes[i]#.get(i, def_code)\n",
    "        rez.append(ch)\n",
    "    print(bytes(rez).decode(encoding='utf8', errors='replace'))"
   ]
  }
 ],
 "metadata": {
  "interpreter": {
   "hash": "0f65c23eede5476679184682c503c84731cf692a5e00e0b01124a2cec60a7327"
  },
  "kernelspec": {
   "display_name": "Python 3.8.8 32-bit",
   "name": "python3"
  },
  "language_info": {
   "codemirror_mode": {
    "name": "ipython",
    "version": 3
   },
   "file_extension": ".py",
   "mimetype": "text/x-python",
   "name": "python",
   "nbconvert_exporter": "python",
   "pygments_lexer": "ipython3",
   "version": "3.8.8"
  }
 },
 "nbformat": 4,
 "nbformat_minor": 2
}
