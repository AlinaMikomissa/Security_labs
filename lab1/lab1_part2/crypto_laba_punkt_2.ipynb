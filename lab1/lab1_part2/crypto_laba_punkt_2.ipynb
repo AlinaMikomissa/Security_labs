{
 "cells": [
  {
   "cell_type": "code",
   "execution_count": 1,
   "metadata": {},
   "outputs": [
    {
     "name": "stdout",
     "output_type": "stream",
     "text": [
      "Всього пар 454, далі перші 15 пар/кодів (шістнадцяткових)\n",
      "['79', '58', '40', '17', '43', '45', '4e', '17', '56', '17', '45', '52', '47', '52', '56']\n",
      "[121, 88, 64, 23, 67, 69, 78, 23, 86, 23, 69, 82, 71, 82, 86] відповідні цілочисленні\n"
     ]
    }
   ],
   "source": [
    "mess = ('7958401743454e1756174552475256435e59501a5c524e176f786517545e475f5245191772195019175e431'\n",
    "    '7445f58425b531743565c521756174443455e595017d5b7ab5f525b5b58174058455b53d5b7aa175659531b1750'\n",
    "    '5e41525917435f52175c524e175e4417d5b7ab5c524ed5b7aa1b174f584517435f5217515e454443175b5243435'\n",
    "    '24517d5b7ab5fd5b7aa17405e435f17d5b7ab5cd5b7aa1b17435f5259174f584517d5b7ab52d5b7aa17405e435f'\n",
    "    '17d5b7ab52d5b7aa1b17435f525917d5b7ab5bd5b7aa17405e435f17d5b7ab4ed5b7aa1b1756595317435f52591'\n",
    "    '74f58451759524f4317545f564517d5b7ab5bd5b7aa17405e435f17d5b7ab5cd5b7aa175650565e591b17435f52'\n",
    "    '5917d5b7ab58d5b7aa17405e435f17d5b7ab52d5b7aa1756595317445817585919176e5842175a564e174244521'\n",
    "    '75659175e5953524f1758511754585e59545e53525954521b177f565a5a5e595017535e4443565954521b177c56'\n",
    "    '445e445c5e17524f565a5e5956435e58591b17444356435e44435e54565b17435244434417584517405f5643524'\n",
    "    '15245175a52435f5853174e5842175152525b174058425b5317445f584017435f52175552444317455244425b4319')\n",
    "# Розбиваємо рядок на пари символів, шістнадцяткові коди зашифрованих символів\n",
    "hex_cods = []\n",
    "for i in range(0, len(mess), 2):\n",
    "    hex_cod = mess[i: i + 2]\n",
    "    hex_cods.append(hex_cod)\n",
    "len_cods = len(hex_cods)\n",
    "print(f'Всього пар {len_cods}, далі перші 15 пар/кодів (шістнадцяткових)\\n{hex_cods[:15]}')\n",
    "# перетворюємо ці пари на цілі коди зашифрованих символів\n",
    "int_cods = []\n",
    "for hex_cod in hex_cods:\n",
    "    int_cod = int(hex_cod, 16)\n",
    "    int_cods.append(int_cod)\n",
    "print(f'{int_cods[:15]} відповідні цілочисленні')"
   ]
  },
  {
   "cell_type": "code",
   "execution_count": 3,
   "metadata": {},
   "outputs": [
    {
     "name": "stdout",
     "output_type": "stream",
     "text": [
      "[(121, 1), (88, 19), (64, 10), (23, 74), (67, 32), (69, 14), (78, 7), (86, 20), (82, 36), (71, 2)]\n",
      "[(0.2, 121), (4.2, 88), (2.2, 64), (16.3, 23), (7.0, 67), (3.1, 69), (1.5, 78), (4.4, 86), (7.9, 82), (0.4, 71)]\n",
      "[(16.3, 23), (7.9, 82), (7.0, 67), (5.3, 213), (5.3, 183)]\n"
     ]
    }
   ],
   "source": [
    "# підрахунок кількості окремих кодів (символів) у повідомленні\n",
    "cod_counts = {}\n",
    "for int_cod in int_cods:\n",
    "    if int_cod not in cod_counts:\n",
    "        cod_counts[int_cod] = 1\n",
    "    else:\n",
    "        cod_counts[int_cod] += 1\n",
    "# перші 10 для контролю (код, кількість)\n",
    "print(list(cod_counts.items())[:10])\n",
    "# визначення частоти кодів/символів у повідомленні (% для зручності)\n",
    "count_cods = []\n",
    "for int_cod, count in cod_counts.items():\n",
    "    count_cods.append((round(count / len_cods * 100, 1), int_cod))\n",
    "# перші 10 для контролю (частота у %, код)\n",
    "print(count_cods[:10])\n",
    "# сортування за частотою зменшення\n",
    "count_cods.sort(reverse=True)\n",
    "# перші 5 для контролю (частота в %, код) за спаданням\n",
    "print(count_cods[:5])\n",
    "# найчастіше має зустрічатися англійська літера \"e\", можливо пробіл "
   ]
  },
  {
   "cell_type": "code",
   "execution_count": 2,
   "metadata": {},
   "outputs": [
    {
     "name": "stdout",
     "output_type": "stream",
     "text": [
      "key_cod=55\n",
      "orig_cods[:15]=[78, 111, 119, 32, 116, 114, 121, 32, 97, 32, 114, 101, 112, 101, 97]\n",
      "char_bytes[:15]=b'Now try a repea'\n",
      "orig_mess='Now try a repeating-key XOR cipher. E.g. it should take a string “hello world” and, given the key is “key”, xor the first letter “h” with “k”, then xor “e” with “e”, then “l” with “y”, and then xor next char “l” with “k” again, then “o” with “e” and so on. You may use an index of coincidence, Hamming distance, Kasiski examination, statistical tests or whatever method you feel would show the best result.'\n"
     ]
    }
   ],
   "source": [
    "orig_char = ' '  # ' ', 'e', 't'\n",
    "coded_cod = 23   #  23,  82,  67\n",
    "key_cod = ord(orig_char) ^ coded_cod\n",
    "print(f'{key_cod=}')\n",
    "# декодування масиву цілих кодів зашифрованих символів\n",
    "orig_cods = []\n",
    "for int_cod in int_cods:\n",
    "    cod = int_cod ^ key_cod\n",
    "    orig_cods.append(cod)\n",
    "# перші 15 декодованих кодів для контролю\n",
    "print(f'{orig_cods[:15]=}')\n",
    "# Перетворення декодованих кодів на байтовий рядок\n",
    "char_bytes = bytes(orig_cods)\n",
    "# перші 15 декодованих кодів для контролю\n",
    "## print(f'{char_bytes[:15]=}')\n",
    "# Декодування байтового рядка\n",
    "orig_mess = char_bytes.decode(errors='ignore')\n",
    "print(f'{orig_mess=}')"
   ]
  }
 ],
 "metadata": {
  "interpreter": {
   "hash": "0f65c23eede5476679184682c503c84731cf692a5e00e0b01124a2cec60a7327"
  },
  "kernelspec": {
   "display_name": "Python 3.8.8 32-bit",
   "name": "python3"
  },
  "language_info": {
   "codemirror_mode": {
    "name": "ipython",
    "version": 3
   },
   "file_extension": ".py",
   "mimetype": "text/x-python",
   "name": "python",
   "nbconvert_exporter": "python",
   "pygments_lexer": "ipython3",
   "version": "3.8.8"
  }
 },
 "nbformat": 4,
 "nbformat_minor": 2
}
