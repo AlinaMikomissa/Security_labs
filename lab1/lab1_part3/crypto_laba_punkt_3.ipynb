{
 "cells": [
  {
   "cell_type": "code",
   "execution_count": 1,
   "metadata": {},
   "outputs": [
    {
     "name": "stdout",
     "output_type": "stream",
     "text": [
      "rez[:15]=[(1, 1), (2, 2), (3, 33), (4, 2), (5, 2), (6, 27), (7, 3), (8, 0), (9, 44), (10, 1), (11, 0), (12, 34), (13, 1), (14, 1), (15, 40)]\n"
     ]
    },
    {
     "data": {
      "image/png": "[encoded data removed]",
      "text/plain": [
       "<Figure size 432x288 with 1 Axes>"
      ]
     },
     "metadata": {
      "needs_background": "light"
     },
     "output_type": "display_data"
    }
   ],
   "source": [
    "# Визначення періоду Віжинера\n",
    "from base64 import b64decode\n",
    "from matplotlib import pyplot as plt\n",
    "\n",
    "s64 = ('G0IFOFVMLRAPI1QJbEQDbFEYOFEPJxAfI10JbEMFIUAAKRAfOVIfOFkYOUQFI15ML1kcJFUeYhA4IxAeKVQZL1'\n",
    "    'VMOFgJbFMDIUAAKUgFOElMI1ZMOFgFPxADIlVMO1VMO1kAIBAZP1VMI14ANRAZPEAJPlMNP1VMIFUYOFUePxxMP19M'\n",
    "    'OFgJbFsJNUMcLVMJbFkfbF8CIElMfgZNbGQDbFcJOBAYJFkfbF8CKRAeJVcEOBANOUQDIVEYJVMNIFwVbEkDORAbJV'\n",
    "    'wAbEAeI1INLlwVbF4JKVRMOF9MOUMJbEMDIVVMP18eOBADKhALKV4JOFkPbFEAK18eJUQEIRBEO1gFL1hMO18eJ1UI'\n",
    "    'bEQEKRAOKUMYbFwNP0RMNVUNPhlAbEMFIUUALUQJKBANIl4JLVwFIldMI0JMK0INKFkJIkRMKFUfL1UCOB5MH1UeJV'\n",
    "    '8ZP1wVYBAbPlkYKRAFOBAeJVcEOBACI0dAbEkDORAbJVwAbF4JKVRMJURMOF9MKFUPJUAEKUJMOFgJbF4JNERMI14J'\n",
    "    'bFEfbEcJIFxCbHIJLUJMJV5MIVkCKBxMOFgJPlWOzKkfbF4DbEMcLVMJPx5MRlgYOEAfdh9DKF8PPx4LI18LIFVCL1'\n",
    "    '8BY1QDL0UBKV4YY1RDfXg1e3QAYQUFOGkof3MzK1sZKXIaOnIqPGRYD1UPC2AFHgNcDkMtHlw4PGFDKVQFOA8ZP0BR'\n",
    "    'P1gNPlkCKw==')\n",
    "##bs64x = s64.encode()  # Рядок символів (base64) у рядок байтів (base64)   # UPD: Виявилось що це не обов'язково  \n",
    "mess = b64decode(s64)  # Рядок байтів (base64) в !!! рядок байтів закодованого повідомлення\n",
    "len_mess = len(mess)\n",
    "# За допомогою зрушень (від 1 до 30) повідомлення та підрахунку кількох збігів символів\n",
    "rez = []\n",
    "for shift in range(1, 30 + 1):\n",
    "    mess_shifted = mess[shift:] + mess[:shift]\n",
    "    count = 0\n",
    "    # перебір пар символів, підрахунок збігів\n",
    "    for a, b in zip(mess, mess_shifted):\n",
    "        if a == b:\n",
    "            count += 1\n",
    "    rez.append((shift, count))\n",
    "# перші 15 кодів для контролю\n",
    "print(f'{rez[:15]=}')\n",
    "# Побудуємо гістограму для перших 30 точок\n",
    "x, y = zip(*rez)\n",
    "plt.bar(x, y)\n",
    "plt.show()"
   ]
  },
  {
   "cell_type": "code",
   "execution_count": 4,
   "metadata": {},
   "outputs": [
    {
     "name": "stdout",
     "output_type": "stream",
     "text": [
      "len_mess / period = 544 / 3 = 181.33333333333334\n",
      "(0, [27, 56, 45, 35, 108, 108, 56, 39, 35, 108])\n",
      "(1, [66, 85, 16, 84, 68, 81, 81, 16, 93, 67])\n",
      "(2, [5, 76, 15, 9, 3, 24, 15, 31, 9, 5])\n"
     ]
    }
   ],
   "source": [
    "from pprint import pprint\n",
    "period = 3\n",
    "print(f'len_mess / period = {len_mess} / {period} = {len_mess/period}')\n",
    "\n",
    "# розбиваємо повідомлення на групи та спробуємо підібрати коди\n",
    "# для кожної групи окремо, щоб результат складався максимально з англійських букв\n",
    "groups = {}  # list(zip(*[mess[i:i + period] for i in range(0, len_mess, period)]))\n",
    "for i in range(len_mess):\n",
    "    groups.setdefault(i % period, []).append(mess[i])\n",
    "# Виведемо з кожної групи по 10 кодів (символів) для контролю\n",
    "print(*[(gr, sub_mess[:10]) for gr, sub_mess in groups.items()], sep='\\n')"
   ]
  },
  {
   "cell_type": "code",
   "execution_count": 5,
   "metadata": {},
   "outputs": [
    {
     "name": "stdout",
     "output_type": "stream",
     "text": [
      "[[(14.3, 108), (12.1, 56), (7.7, 41), (6.6, 63)],\n",
      " [(12.2, 16), (10.5, 85), (6.6, 95), (6.1, 94)],\n",
      " [(16.6, 76), (12.2, 9), (6.6, 5), (6.1, 3)]]\n"
     ]
    }
   ],
   "source": [
    "# Визначення максимальних частот однакових символів, закодованих загальним кодом\n",
    "# Виведемо дані 4 символів максимальними частотами у кожній групі\n",
    "chars = 4\n",
    "frequs = []\n",
    "for sub_mess in groups.values():\n",
    "    counts = {}\n",
    "    for ch in sub_mess:\n",
    "        if ch in counts:\n",
    "            counts[ch] += 1\n",
    "        else:\n",
    "            counts[ch] = 1       \n",
    "    # (частота у відсотках, код)\n",
    "    pars = sorted([(round(count / len(sub_mess) * 100, 1), ch) \n",
    "                for ch, count in counts.items()], reverse=True)[:chars]\n",
    "    frequs.append(pars)\n",
    "# Виведемо коди символів у порядку зменшення частоти % (частота, код)\n",
    "pprint(frequs)"
   ]
  },
  {
   "cell_type": "code",
   "execution_count": 6,
   "metadata": {},
   "outputs": [
    {
     "name": "stdout",
     "output_type": "stream",
     "text": [
      "gr_keys = [76, 48, 108]\n",
      "(0, [87, 116, 97, 111, 32, 32, 116, 107, 111, 32])\n",
      "(1, [114, 101, 32, 100, 116, 97, 97, 32, 109, 115])\n",
      "(2, [105, 32, 99, 101, 111, 116, 99, 115, 101, 105])\n"
     ]
    }
   ],
   "source": [
    "# Декодуємо тексти в групах, а потім об'єднаємо їх в один рядок\n",
    "# отримання ключів до груп з передбачуваних вихідних \n",
    "# символів та їх закодованих значень за групами\n",
    "gr_keys = [ord(' ') ^ 108, ord(' ') ^ 16, ord(' ') ^ 76]\n",
    "print(f'{gr_keys = }')\n",
    "decoded_groups = {}\n",
    "for gr, sub_mess in groups.items():\n",
    "    for cod in sub_mess:\n",
    "        decod = cod ^ gr_keys[gr]\n",
    "        decoded_groups.setdefault(gr, []).append(decod)\n",
    "# Виведемо з кожної групи по 10 кодів (символів) для контролю\n",
    "print(*[(gr, sub_mess[:10]) for gr, sub_mess in decoded_groups.items()], sep='\\n')        "
   ]
  },
  {
   "cell_type": "code",
   "execution_count": 7,
   "metadata": {},
   "outputs": [
    {
     "name": "stdout",
     "output_type": "stream",
     "text": [
      "(87, 114, 105, 116, 101, 32, 97, 32, 99, 111, 100, 101, 32, 116, 111, 32, 97, 116, 116, 97, 99, 107, 32, 115, 111, 109, 101, 32, 115, 105)\n"
     ]
    }
   ],
   "source": [
    "# Об'єднаємо всі дешифровані групи в один байтовий рядок\n",
    "decodes_all = sum(zip(*decoded_groups.values()), ())\n",
    "print(decodes_all[:30])"
   ]
  },
  {
   "cell_type": "code",
   "execution_count": 8,
   "metadata": {},
   "outputs": [
    {
     "name": "stdout",
     "output_type": "stream",
     "text": [
      "Write a code to attack some simple substitution cipher. To reduce the complexity of this one we will use only uppercase letters, so the keyspace is only 26! To get this one right automatically you will probably need to use some sort of genetic algorithm (which worked the best last year), simulated annealing or gradient descent. Seriously, write it right now, you will need it to decipher the next one as well. Bear in mind, there’s no spaces. \n",
      "https://docs.google.com/document/d/1HY7Dl-5itYD3C_gkueBvvBFpT4CecGPiR30BsARlTpQ/edit?usp=sharin\n"
     ]
    }
   ],
   "source": [
    "# далі набір кодів символів результуючого рядка в\n",
    "# байтовий рядок і потім у нормальний рядок символів\n",
    "bsx = bytes(decodes_all)\n",
    "sx = bsx.decode()  # Рядок байтів у рядок символів\n",
    "print(sx)"
   ]
  }
 ],
 "metadata": {
  "interpreter": {
   "hash": "0f65c23eede5476679184682c503c84731cf692a5e00e0b01124a2cec60a7327"
  },
  "kernelspec": {
   "display_name": "Python 3.8.8 32-bit",
   "name": "python3"
  },
  "language_info": {
   "codemirror_mode": {
    "name": "ipython",
    "version": 3
   },
   "file_extension": ".py",
   "mimetype": "text/x-python",
   "name": "python",
   "nbconvert_exporter": "python",
   "pygments_lexer": "ipython3",
   "version": "3.8.8"
  }
 },
 "nbformat": 4,
 "nbformat_minor": 2
}
