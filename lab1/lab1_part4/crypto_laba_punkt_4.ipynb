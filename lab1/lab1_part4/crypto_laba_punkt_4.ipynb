{
 "cells": [
  {
   "cell_type": "code",
   "execution_count": 6,
   "metadata": {},
   "outputs": [
    {
     "name": "stdout",
     "output_type": "stream",
     "text": [
      "648\n"
     ]
    }
   ],
   "source": [
    "mess0 = ('EFFPQLEKVTVPCPYFLMVHQLUEWCNVWFYGHYTCETHQEKLPVMSAKSPVPAPVYWMVHQLUSPQLYWLASLFVWPQLMVHQLU'\n",
    "    'PLRPSQLULQESPBLWPCSVRVWFLHLWFLWPUEWFYOTCMQYSLWOYWYETHQEKLPVMSAKSPVPAPVYWHEPPLUWSGYULEMQTLP'\n",
    "    'PLUGUYOLWDTVSQETHQEKLPVPVSMTLEUPQEPCYAMEWWYTYWDLUULTCYWPQLSEOLSVOHTLUYAPVWLYGDALSSVWDPQLNL'\n",
    "    'CKCLRQEASPVILSLEUMQBQVMQCYAHUYKEKTCASLFPYFLMVHQLUPQLHULIVYASHEUEDUEHQBVTTPQLVWFLRYGMYVWMVF'\n",
    "    'LWMLSPVTTBYUNESESADDLSPVYWCYAMEWPUCPYFVIVFLPQLOLSSEDLVWHEUPSKCPQLWAOKLUYGMQEUEMPLUSVWENLCE'\n",
    "    'WFEHHTCGULXALWMCEWETCSVSPYLEMQYGPQLOMEWCYAGVWFEBECPYASLQVDQLUYUFLUGULXALWMCSPEPVSPVMSBVPQP'\n",
    "    'QVSPCHLYGMVHQLUPQLWLRPOEDVMETBYUFBVTTPENLPYPQLWLRPTEKLWZYCKVPTCSTESQPBYMEHVPETCMEHVPETZMEH'\n",
    "    'VPETKTMEHVPETCMEHVPETT')\n",
    "osob0 = 'ETAOINSHRDLCUMWFGYPBVKXJQZ'    \n",
    "len_mess = len(mess0)\n",
    "print(len_mess)"
   ]
  },
  {
   "cell_type": "code",
   "execution_count": 7,
   "metadata": {},
   "outputs": [
    {
     "name": "stdout",
     "output_type": "stream",
     "text": [
      "len(ch_counts) = 25, ch_counts = {'L': 0.11265, 'P': 0.09722, 'E': 0.08488, 'V': 0.0787, 'Y': 0.06019, 'Q': 0.05864, 'W': 0.05864, 'S': 0.05864, 'T': 0.04938, 'U': 0.04938, 'M': 0.0463, 'C': 0.04012, 'H': 0.03858, 'A': 0.02932, 'F': 0.02778, 'K': 0.0216, 'G': 0.01698, 'D': 0.01543, 'B': 0.01389, 'O': 0.01389, 'R': 0.00926, 'N': 0.00772, 'I': 0.00463, 'X': 0.00309, 'Z': 0.00309}\n",
      "len(mes_frequ_str) = 26, mes_frequ_str = 'LPEVYQWSTUMCHAFKGDBORNIXZJ'\n"
     ]
    }
   ],
   "source": [
    "# ймовірність символів у повідомленні\n",
    "ch_counts = {}  # символ: ймовірність)\n",
    "for ch in mess0:\n",
    "    if ch in ch_counts:\n",
    "        ch_counts[ch] += 1 / len_mess\n",
    "    else:\n",
    "        ch_counts[ch] = 1 / len_mess      \n",
    "# (частота у відсотках, код)\n",
    "ch_counts = {ch: round(count, 5) for ch, count in\n",
    "            sorted(ch_counts.items(), key=lambda x: x[-1], reverse=True)}\n",
    "print(f'{len(ch_counts) = }, {ch_counts = }')\n",
    "# Символи закодованого тексту за зменшенням частоти\n",
    "mes_frequ_str = ''.join(ch_counts)  # 'LPEVYWSQUTMCHAFKGDOBRNIZX' нет 'J'\n",
    "mes_frequ_str += ''.join(set(osob0) - set(mes_frequ_str))\n",
    "print(f'{len(mes_frequ_str) = }, {mes_frequ_str = }')"
   ]
  },
  {
   "cell_type": "code",
   "execution_count": 8,
   "metadata": {},
   "outputs": [
    {
     "name": "stdout",
     "output_type": "stream",
     "text": [
      "len(mes_frequ_str) = 26, mes_frequ_str = 'LPEVYQWSTUMCHAFKGDBORNIXZJ'\n",
      "len(osobs) = 5, len(osobs[0]) = 26, osobs = ('ETAOINSHRDLCUMWFGYPBVKXJQZ', 'LPEVYWSQUTMCHAFKGDOBRNIZXJ', 'ETAONISRHDLUCMFWGYPBVKXJQZ', 'ETAINROSHDLCFUMGPWBYVKQXJZ', 'ESIARNTOLCDUGPMHBYFVKWZXJQ')\n",
      "dct_repl = {'L': 'E', 'P': 'T', 'E': 'A', 'V': 'O', 'Y': 'N', 'Q': 'I', 'W': 'S', 'S': 'R', 'T': 'H', 'U': 'D'}\n"
     ]
    }
   ],
   "source": [
    "# Символи закодованого тексту за зменшенням частоти\n",
    "print(f'{len(mes_frequ_str) = }, {mes_frequ_str = }')  # 'LPEVYWSQUTMCHAFKGDOBRNIZX' нет 'J'\n",
    "# Символи англійського алфавіту зі спадання частоти (три варіанти)\n",
    "osobs = (osob0,\n",
    "    'LPEVYWSQUTMCHAFKGDOBRNIZXJ',\n",
    "    'ETAONISRHDLUCMFWGYPBVKXJQZ',\n",
    "    'ETAINROSHDLCFUMGPWBYVKQXJZ',\n",
    "    'ESIARNTOLCDUGPMHBYFVKWZXJQ')\n",
    "print(f'{len(osobs) = }, {len(osobs[0]) = }, {osobs = }')\n",
    "dct_repl = {k:v for k, v in zip(mes_frequ_str, osobs[2])}  # тут можна вибрати номер ключа\n",
    "# Словник заміни закодованих символів на вихідні \n",
    "print('dct_repl =', dict(list(dct_repl.items())[:10]))\n",
    "mess = ''.join(dct_repl[ch] for ch in mess0)\n",
    "# print(f'{mess = }')"
   ]
  },
  {
   "cell_type": "markdown",
   "metadata": {},
   "source": [
    "Посилання на частоти буквосполучень слів англійських текстів:<BR>\n",
    "https://web.archive.org/web/20040603075055/http://www.data-compression.com/english.html<BR>\n",
    "Ідея фітнес функції:<BR>\n",
    "https://7universum.com/ru/tech/archive/item/5020"
   ]
  },
  {
   "cell_type": "code",
   "execution_count": 9,
   "metadata": {},
   "outputs": [
    {
     "name": "stdout",
     "output_type": "stream",
     "text": [
      "В файле символов: 8610 , строк: 31\n",
      "В файле символов: 203515 , строк: 733\n"
     ]
    }
   ],
   "source": [
    "# Отримання ймовірностей проходження другої літери за першою\n",
    "#  в англійських текстах із файлу 'chars2_probs.txt'\n",
    "from pprint import pprint\n",
    "probs = []\n",
    "for fpne_probs in ('chars2_probs.txt', 'chars3_probs.txt'):\n",
    "    with open(fpne_probs) as fx:\n",
    "        prob_strs = fx.read().replace('SPACE', '_').replace('S', '_').upper()\n",
    "    ss = prob_strs.splitlines()\n",
    "    print('В файле символов:', len(prob_strs),', строк:', len(ss))\n",
    "    del ss[-1:]\n",
    "    del ss[2]\n",
    "    del ss[0]\n",
    "    chs_ch_probs = {}\n",
    "    for i, si in enumerate(ss):\n",
    "        L, P = si.split('||')\n",
    "        if i == 0:\n",
    "            hchs = P.replace('|', ' ').split()\n",
    "            continue\n",
    "        chs = L.replace(' ', '')\n",
    "        for ch, prob in zip(hchs, P.split()):\n",
    "            prob = float(prob)  # round(, 5)\n",
    "            if '_' in chs + ch:  # or prob < 0.005:  # ???\n",
    "                continue\n",
    "            chs_ch_probs.setdefault(chs, {})[ch] = prob\n",
    "    probs.append(chs_ch_probs)\n",
    "# pprint(probs)  \n",
    "chs_ch_probs = probs[1]  \n",
    "# pprint(chs_ch_probs)     "
   ]
  },
  {
   "cell_type": "code",
   "execution_count": 10,
   "metadata": {},
   "outputs": [
    {
     "name": "stdout",
     "output_type": "stream",
     "text": [
      "3 len(chs_ch_probs) = 676\n"
     ]
    }
   ],
   "source": [
    "# \n",
    "len_chs = len(next(chs_ch_probs.__iter__())) + 1\n",
    "print(len_chs, f'{len(chs_ch_probs) = }')\n",
    "\n",
    "def fitnes(osobs):\n",
    "    rez = []\n",
    "    for osob in osobs:\n",
    "        dct_repl = {k:v for k, v in zip(mes_frequ_str, osob)}\n",
    "        mess = ''.join(dct_repl[ch] for ch in mess0)\n",
    "        chs_ch_mess_cnt = {}\n",
    "#        pprint(chs_ch_probs)\n",
    "        for chs_ch in (mess[i:i+len_chs] for i in range(len(mess)-len_chs)):\n",
    "            chs, ch = chs_ch[:-1], chs_ch[-1:]\n",
    "            if chs not in chs_ch_mess_cnt:\n",
    "                chs_ch_mess_cnt[chs] = {}\n",
    "            if ch not in chs_ch_mess_cnt[chs]:\n",
    "                chs_ch_mess_cnt[chs][ch] = 0\n",
    "#            chs_ch_mess_cnt.setdefault(chs, {}).setdefault(ch, 0)\n",
    "            chs_ch_mess_cnt[chs][ch] += 1\n",
    "        fit = 0\n",
    "        for chs, ch_mess_cnt in chs_ch_mess_cnt.items():\n",
    "            for ch, mess_cnt in ch_mess_cnt.items():\n",
    "                fit += abs(mess_cnt / len(ch_mess_cnt) - chs_ch_probs[chs][ch]\n",
    "                        ) / (0.5 + chs_ch_probs[chs][ch])\n",
    "        fit /= len(mess)-len_chs\n",
    "#        print(fit)\n",
    "        if fit > 1:\n",
    "            5#continue\n",
    "        rez.append((osob, fit, mess))\n",
    "    return rez\n",
    "    \n",
    "rez = fitnes(osobs)\n",
    "# pprint(rez)\n",
    "# print(f'{len(ts[0]) = }, sum = {ts[1]}') for ts in rez][0]\n"
   ]
  },
  {
   "cell_type": "code",
   "execution_count": 11,
   "metadata": {},
   "outputs": [
    {
     "name": "stdout",
     "output_type": "stream",
     "text": [
      "('ETAINROSHDLCFUMGPWBYVKQXJZ', 'ESIARNTOLCDUGPMHBYFVKWZXJQ')\n",
      "('ESTAINRODCLUFGMHPYBKVWZXJQ', 'EANIORTSLHDCPUMGBWFYVKQXJZ')\n"
     ]
    }
   ],
   "source": [
    "import itertools\n",
    "import random\n",
    "from collections import Counter\n",
    "0 and random.seed(1)\n",
    "\n",
    "def sxrest(osob12):\n",
    "#    p1, p2 = sorted(random.randrange(len(osob)) for _ in range(2))\n",
    "#    print(osob12[0])\n",
    "#    print(osob12[1])\n",
    "    osob1, osob2 = [[t[(i + j) % 2] for j, t in enumerate(zip(*osob12))] for i in range(2)]\n",
    "#    print(osob1)\n",
    "#    print(osob2)\n",
    "    povt1 = [c for c, n in Counter(osob1).items() if n > 1]\n",
    "    povt2 = [c for c, n in Counter(osob2).items() if n > 1]\n",
    "#    print(povt1)\n",
    "#    print(povt2)\n",
    "    for c1, c2 in zip(povt1, povt2):\n",
    "        osob1[osob1.index(c1)], osob2[osob2.index(c2)] = c2, c1\n",
    "#    print(osob1)\n",
    "#    print(osob2)\n",
    "    return ''.join(osob1), ''.join(osob2)\n",
    "\n",
    "def mut1(osob):\n",
    "    p1, p2 = sorted(random.randrange(len(osob)) for _ in range(2))\n",
    "    if p1 != p2:\n",
    "        osob = osob[:p1] + osob[p2:p2 + 1] + osob[p1 + 1:p2] + osob[p1:p1 + 1] + osob[p2 + 1:]\n",
    "    return osob\n",
    "\n",
    "def mut2(osob):\n",
    "    p1 = random.randrange(len(osob) - 1)\n",
    "    osob = osob[:p1] + osob[p1 + 1:p1 + 2] + osob[p1:p1 + 1] + osob[p1 + 2:]\n",
    "    return osob\n",
    "\n",
    "def mut3(osob):\n",
    "    p1, p2 = sorted(random.randrange(len(osob) - 1) for _ in range(2))\n",
    "    osob = osob[:p1] + osob[p1 + 1:p1 + 2] + osob[p1:p1 + 1] + osob[p1 + 2:]\n",
    "    osob = osob[:p2] + osob[p2 + 1:p2 + 2] + osob[p2:p2 + 1] + osob[p2 + 2:]\n",
    "    return osob\n",
    "\n",
    "# chs_ch_probs = probs[1] \n",
    "cur_osobs = osobs\n",
    "print(osobs[-2:])\n",
    "print(sxrest(osobs[-2:]))"
   ]
  },
  {
   "cell_type": "code",
   "execution_count": 13,
   "metadata": {},
   "outputs": [
    {
     "name": "stdout",
     "output_type": "stream",
     "text": [
      "26\n",
      "Counter({'W': 2, 'E': 1, 'T': 1, 'A': 1, 'I': 1, 'O': 1, 'H': 1, 'N': 1, 'S': 1, 'L': 1, 'R': 1, 'C': 1, 'Y': 1, 'P': 1, 'U': 1, 'D': 1, 'B': 1, 'G': 1, 'M': 1, 'X': 1, 'V': 1, 'K': 1, 'Q': 1, 'J': 1, 'Z': 1})\n"
     ]
    }
   ],
   "source": [
    "osob_end = 'ETAIOHNSLRCYPUDBWGWMXVKQJZ'\n",
    "print(len(osob_end))\n",
    "print(Counter(osob_end))"
   ]
  },
  {
   "cell_type": "code",
   "execution_count": null,
   "metadata": {},
   "outputs": [],
   "source": [
    "for i in range(10):\n",
    "    print(end=f'{i} ')\n",
    "    new_osobs = set(map(mut3, sum(map(sxrest, itertools.combinations(cur_osobs, 2)), ())))\n",
    "    rez = sorted(fitnes(new_osobs), key=lambda x: x[1])  #  + tuple(cur_osobs)\n",
    "    cur_osobs = [t[0] for t in rez][:50]\n",
    "print()\n",
    "print('\\n'.join([f'{t[1]:.6f}' for t in rez][:5]))\n",
    "print('\\n'.join([t[0] for t in rez][:5]), '\\n')\n",
    "print('\\n'.join([t[2] for t in rez][:20]))\n",
    "# print(osobs_new)"
   ]
  },
  {
   "cell_type": "code",
   "execution_count": 12,
   "metadata": {},
   "outputs": [
    {
     "name": "stdout",
     "output_type": "stream",
     "text": [
      "ADD THE ABILITY TO DECIPHER ANY KIND OF POLY ALPHABETIC SUBSTITUTION CIPHERS THE ONE USED IN THE CIPHER TEXT SHERE HAS TWENTY SIX INDEPENDEN TRANDOMLY CHOSEN MONO ALPHABETIC SUBSTITUTION PATTERN SFOR EACH LETTER FROM ENGLISH ALPHABET IT IS CLEAR THAT YOU CAN NO LONGER RELY ON THE SAME SIMPLE ROUTINE OF GUESSING THE KEY BY EXHAUSTIVE SEARCH WHICH YOU PROBABLY USED TO DECIPHER THE PREVIOUS PARAGRAPH WILL THE INDEX OF COINCIDENCES TILL WORKA SASUGGESTION YOU CAN TRY TO DIVIDE THE MESSAGE IN PARTS BY THE NUMBER OF CHARACTERS IN A KEY AND APPLY FREQUENCY ANALYSIS TO EACH OF THE MCAN YOU FIND A WAY TO USE HIGHER ORDER FREQUENCY STATISTICS WITH THIS TYPE OF CIPHER THE NEXT MAGICAL WORD WILL TAKE TO THE NEXT LABEN JOY BITLY SLASH TWO CAPITAL Y CAPITAL J CAPITAL BL CAPITAL Y CAPITAL L\n"
     ]
    }
   ],
   "source": [
    "spaces = 'ADD THE ABILITY TO DECIPHER ANY KIND OF POLY ALPHABETIC SUBSTITUTION CIPHERS THE ONE USED IN THE CIPHER TEXT SHERE HAS TWENTY SIX INDEPENDEN TRANDOMLY CHOSEN MONO ALPHABETIC SUBSTITUTION PATTERN SFOR EACH LETTER FROM ENGLISH ALPHABET IT IS CLEAR THAT YOU CAN NO LONGER RELY ON THE SAME SIMPLE ROUTINE OF GUESSING THE KEY BY EXHAUSTIVE SEARCH WHICH YOU PROBABLY USED TO DECIPHER THE PREVIOUS PARAGRAPH WILL THE INDEX OF COINCIDENCES TILL WORKA SASUGGESTION YOU CAN TRY TO DIVIDE THE MESSAGE IN PARTS BY THE NUMBER OF CHARACTERS IN A KEY AND APPLY FREQUENCY ANALYSIS TO EACH OF THE MCAN YOU FIND A WAY TO USE HIGHER ORDER FREQUENCY STATISTICS WITH THIS TYPE OF CIPHER THE NEXT MAGICAL WORD WILL TAKE TO THE NEXT LABEN JOY BITLY SLASH TWO CAPITAL Y CAPITAL J CAPITAL BL CAPITAL Y CAPITAL L'\n",
    "osobs_end = '''\n",
    "ETAIOHNSLRCYPUDBWGMZKVXQJF\n",
    "ETAIOHNSLRCYPUDBWGMZFVXQJK\n",
    "ETAIOHNSLRCYPUDBWGMZKVFQJX\n",
    "ETAIOHNSLRCYPUDBWGMKFVXQZJ\n",
    "ETAIOHNSLRCYPUDBWGMKFZVQJX'''.split()\n",
    "\"\"\"\n",
    "osob_end = 'ETAIOHNSLRCYPUDBWGMZKVXQJF'\n",
    "osob_end = 'ETAIOHNSLRCYPUDBWGMZXVKQJF' F-nema\n",
    "osob_end = 'ETAIOHNSLRCYPUDBWGWMXVKQJZ'\n",
    "osob_end = 'ETAIOHNSLRCYPUDBWGFMXKVQJZ'\"\"\"\n",
    "osob_end = 'ETAIOHNSLRCYPUDBFGWMXKVQJZ'\n",
    "rez = sorted(fitnes([osob_end]), key=lambda x: x[1])\n",
    "chars = list(rez[0][2])\n",
    "spaces_pos = []\n",
    "p_cur = -1\n",
    "for i in range(spaces.count(' ')):\n",
    "    p_cur = spaces.index(' ', p_cur + 1)\n",
    "    spaces_pos.append(p_cur)\n",
    "for i in spaces_pos:\n",
    "    chars.insert(i, ' ')\n",
    "print(''.join(chars))"
   ]
  }
 ],
 "metadata": {
  "interpreter": {
   "hash": "0f65c23eede5476679184682c503c84731cf692a5e00e0b01124a2cec60a7327"
  },
  "kernelspec": {
   "display_name": "Python 3.8.8 32-bit",
   "name": "python3"
  },
  "language_info": {
   "codemirror_mode": {
    "name": "ipython",
    "version": 3
   },
   "file_extension": ".py",
   "mimetype": "text/x-python",
   "name": "python",
   "nbconvert_exporter": "python",
   "pygments_lexer": "ipython3",
   "version": "3.8.8"
  }
 },
 "nbformat": 4,
 "nbformat_minor": 2
}
