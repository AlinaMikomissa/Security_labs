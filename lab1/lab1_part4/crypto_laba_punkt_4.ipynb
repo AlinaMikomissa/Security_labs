{
 "cells": [
  {
   "cell_type": "markdown",
   "metadata": {},
   "source": [
    "Посилання на частоти буквосполучень слів англійських текстів:<BR>\n",
    "https://web.archive.org/web/20040603075055/http://www.data-compression.com/english.html<BR>\n",
    "Ідея фітнес функції:<BR>\n",
    "https://7universum.com/ru/tech/archive/item/5020"
   ]
  },
  {
   "cell_type": "code",
   "execution_count": 1,
   "metadata": {},
   "outputs": [
    {
     "name": "stdout",
     "output_type": "stream",
     "text": [
      "648\n"
     ]
    }
   ],
   "source": [
    "# зашифроване повіломлення\n",
    "end = ''\n",
    "mess0 = (\n",
    "    'EFFPQLEKVTVPCPYFLMVHQLUEWCNVWFYGHYTCETHQEKLPVMSAKSPVPAPVYWMVHQLUSPQLYWLASLFVWPQLMVHQLU'\n",
    "    'PLRPSQLULQESPBLWPCSVRVWFLHLWFLWPUEWFYOTCMQYSLWOYWYETHQEKLPVMSAKSPVPAPVYWHEPPLUWSGYULEMQTLP'\n",
    "    'PLUGUYOLWDTVSQETHQEKLPVPVSMTLEUPQEPCYAMEWWYTYWDLUULTCYWPQLSEOLSVOHTLUYAPVWLYGDALSSVWDPQLNL'\n",
    "    'CKCLRQEASPVILSLEUMQBQVMQCYAHUYKEKTCASLFPYFLMVHQLUPQLHULIVYASHEUEDUEHQBVTTPQLVWFLRYGMYVWMVF'\n",
    "    'LWMLSPVTTBYUNESESADDLSPVYWCYAMEWPUCPYFVIVFLPQLOLSSEDLVWHEUPSKCPQLWAOKLUYGMQEUEMPLUSVWENLCE'\n",
    "    'WFEHHTCGULXALWMCEWETCSVSPYLEMQYGPQLOMEWCYAGVWFEBECPYASLQVDQLUYUFLUGULXALWMCSPEPVSPVMSBVPQP'\n",
    "    'QVSPCHLYGMVHQLUPQLWLRPOEDVMETBYUFBVTTPENLPYPQLWLRPTEKLWZYCKVPTCSTESQPBYMEHVPETCMEHVPETZMEH'\n",
    "    'VPETKTMEHVPETCMEHVPETT')\n",
    "len_mess = len(mess0)\n",
    "print(len_mess)\n",
    "# Декілька варіантів наборів англійських символів в порядку зменшення імовірності використання\n",
    "en_chrs0 = ('ETAOINSHRDLCUMWFGYPBVKXJQZ',\n",
    "            'ETAONISRHDLUCMFWGYPBVKXJQZ',\n",
    "            'ETAINROSHDLCFUMGPWBYVKQXJZ',\n",
    "            'ESIARNTOLCDUGPMHBYFVKWZXJQ')    "
   ]
  },
  {
   "cell_type": "code",
   "execution_count": 2,
   "metadata": {},
   "outputs": [
    {
     "name": "stdout",
     "output_type": "stream",
     "text": [
      "len(ch_counts) = 25, ch_counts = {'L': 0.11265, 'P': 0.09722, 'E': 0.08488, 'V': 0.0787, 'Y': 0.06019, 'Q': 0.05864, 'W': 0.05864, 'S': 0.05864, 'T': 0.04938, 'U': 0.04938, 'M': 0.0463, 'C': 0.04012, 'H': 0.03858, 'A': 0.02932, 'F': 0.02778, 'K': 0.0216, 'G': 0.01698, 'D': 0.01543, 'B': 0.01389, 'O': 0.01389, 'R': 0.00926, 'N': 0.00772, 'I': 0.00463, 'X': 0.00309, 'Z': 0.00309}\n",
      "len(mes_frequ_str) = 26, mes_frequ_str = 'LPEVYQWSTUMCHAFKGDBORNIXZJ'\n"
     ]
    }
   ],
   "source": [
    "#  Визначення ймовірністі символів у повідомленні \n",
    "# # спосіб 1\n",
    "ch_counts = {}  # символ: вероятность)\n",
    "for ch in mess0:\n",
    "    if ch in ch_counts:\n",
    "        ch_counts[ch] += 1 / len_mess\n",
    "    else:\n",
    "        ch_counts[ch] = 1 / len_mess      \n",
    "# (частота в процентах, код)\n",
    "ch_counts = {ch: round(count, 5) for ch, count in\n",
    "            sorted(ch_counts.items(), key=lambda x: x[-1], reverse=True)}\n",
    "print(f'{len(ch_counts) = }, {ch_counts = }')\n",
    "# Символы закодированного текска по убыванию частоты\n",
    "mes_frequ_str = ''.join(ch_counts)  # 'LPEVYWSQUTMCHAFKGDOBRNIZX' нет 'J'\n",
    "mes_frequ_str += ''.join(set(en_chrs0[0]) - set(mes_frequ_str))\n",
    "print(f'{len(mes_frequ_str) = }, {mes_frequ_str = }')\n"
   ]
  },
  {
   "cell_type": "code",
   "execution_count": 3,
   "metadata": {},
   "outputs": [
    {
     "name": "stdout",
     "output_type": "stream",
     "text": [
      "Кількість різних символів в повідомленні: len(ch_counts) = 25\n",
      "Символи і їх імовірності ch_counts = {'L': 0.11265, 'P': 0.09722, 'E': 0.08488, 'V': 0.0787, 'Y': 0.06019, 'Q': 0.05864, 'W': 0.05864, 'S': 0.05864, 'T': 0.04938, 'U': 0.04938, 'M': 0.0463, 'C': 0.04012, 'H': 0.03858, 'A': 0.02932, 'F': 0.02778, 'K': 0.0216, 'G': 0.01698, 'D': 0.01543, 'B': 0.01389, 'O': 0.01389, 'R': 0.00926, 'N': 0.00772, 'I': 0.00463, 'X': 0.00309, 'Z': 0.00309}\n",
      "mes_frequ_str = 'LPEVYQWSTUMCHAFKGDBORNIXZ'\n",
      "mes_frequ_str = 'LPEVYQWSTUMCHAFKGDBORNIXZJ'\n"
     ]
    }
   ],
   "source": [
    "from collections import Counter\n",
    "# Визначення ймовірністі символів у повідомленні # символ: ймовірність \n",
    "# # спосіб 2\n",
    "ch_counts = Counter(mess0)\n",
    "ch_counts = {ch: round(n / len_mess, 5) for ch, n in \n",
    "            sorted(ch_counts.items(), key=lambda x: x[-1], reverse=True)}\n",
    "# Символи уже відсортовані по зменшенню імовірності, виведемо їх на друк\n",
    "print(f'Кількість різних символів в повідомленні: {len(ch_counts) = }')\n",
    "print(f'Символи і їх імовірності {ch_counts = }')\n",
    "# Символи закодованого тексту за зменшенням частоти\n",
    "mes_frequ_str = ''.join(ch_counts)\n",
    "print(f'{mes_frequ_str = }')\n",
    "# добавимо про всяк випадок символи, яких немає в повідомленні\n",
    "mes_frequ_str += ''.join(set(en_chrs0[0]) - set(mes_frequ_str))\n",
    "# виведемо на друк \n",
    "print(f'{mes_frequ_str = }') "
   ]
  },
  {
   "cell_type": "code",
   "execution_count": 4,
   "metadata": {},
   "outputs": [
    {
     "name": "stdout",
     "output_type": "stream",
     "text": [
      "| =0=   en_chrs = 'ETAOINSHRDLCUMWFGYPBVKXJQZ', Послідовність символів для підстановки замість:\n",
      "| mes_frequ_str = 'LPEVYQWSTUMCHAFKGDBORNIXZJ'\n",
      "AWWTNEAFOROTCTIWELOUNEDASCKOSWIGUIRCARUNAFETOLHMFHTOTMTOISLOUNEDHTNEISEMHEWOSTNELOUNEDTEVTHNEDENAHTP\n",
      "| =1=   en_chrs = 'ETAONISRHDLUCMFWGYPBVKXJQZ', Послідовність символів для підстановки замість:\n",
      "| mes_frequ_str = 'LPEVYQWSTUMCHAFKGDBORNIXZJ'\n",
      "AFFTIEAWOHOTUTNFELOCIEDASUKOSFNGCNHUAHCIAWETOLRMWRTOTMTONSLOCIEDRTIENSEMREFOSTIELOCIEDTEVTRIEDEIARTP\n",
      "| =2=   en_chrs = 'ETAINROSHDLCFUMGPWBYVKQXJZ', Послідовність символів для підстановки замість:\n",
      "| mes_frequ_str = 'LPEVYQWSTUMCHAFKGDBORNIXZJ'\n",
      "AMMTREAGIHITCTNMELIFREDAOCKIOMNPFNHCAHFRAGETILSUGSTITUTINOLIFREDSTRENOEUSEMIOTRELIFREDTEVTSREDERASTB\n",
      "| =3=   en_chrs = 'ESIARNTOLCDUGPMHBYFVKWZXJQ', Послідовність символів для підстановки замість:\n",
      "| mes_frequ_str = 'LPEVYQWSTUMCHAFKGDBORNIXZJ'\n",
      "IMMSNEIHALASUSRMEDAGNECITUWATMRBGRLUILGNIHESADOPHOSASPSARTDAGNECOSNERTEPOEMATSNEDAGNECSEKSONECENIOSF\n"
     ]
    }
   ],
   "source": [
    "## перша спроба розшифрувати -- невдала\n",
    "\n",
    "# функція створення словника для розшифрування\n",
    "\n",
    "def get_dict_decode(en_chrs, mes_chrs):\n",
    "    dct_decode = dict(zip(mes_chrs, en_chrs))\n",
    "    return dct_decode\n",
    "# функція для розшифрування повідомлення\n",
    "def get_mes_decode(mess, dct_decode):\n",
    "    mes_decode = ''.join(dct_decode[chr] for chr in mess)\n",
    "    return mes_decode\n",
    "# спроба декодування за допомогою деяких відомих послідовностей із \"en_chrs0\"\n",
    "for i, en_chrs in enumerate(en_chrs0):\n",
    "    print(f'| ={i}=   {en_chrs = }, Послідовність символів для підстановки замість:')\n",
    "    print(f'| {mes_frequ_str = }')\n",
    "    mes = get_mes_decode(mess0, get_dict_decode(en_chrs, mes_frequ_str))\n",
    "    print(mes[:100])"
   ]
  },
  {
   "cell_type": "code",
   "execution_count": 5,
   "metadata": {},
   "outputs": [
    {
     "name": "stdout",
     "output_type": "stream",
     "text": [
      "В файлі символів: 203515 , рядків: 733\n",
      "len(chs_ch_probs) = 676\n",
      "chs_ch_probs[\"AN\"][\"D\"] = 0.5019121\n"
     ]
    }
   ],
   "source": [
    "## друга спроба розшифрувати\n",
    "### перша спроба створення фітнес функції\n",
    "\n",
    "# Отримання ймовірностей слідування третьої літери за першими двома\n",
    "#  в англійських текстах із файлу 'chars3_probs.txt'\n",
    "\n",
    "from pprint import pprint\n",
    "\n",
    "with open('chars3_probs.txt') as fx:\n",
    "    prob_strs = fx.read().replace('SPACE', '_').replace('S', '_').upper()\n",
    "ss = prob_strs.splitlines()\n",
    "print('В файлі символів:', len(prob_strs),', рядків:', len(ss))\n",
    "#  видаляємо зайві рядки (починаючи з кінця, щоб не зміщувалась нумерація)\n",
    "del ss[-1:]\n",
    "del ss[2]\n",
    "del ss[0]\n",
    "# словник буквосполучень \"пара букв\": \"третя буква\": \"імовірнісь цього\"\n",
    "chs_ch_probs = {}  \n",
    "for i, si in enumerate(ss):\n",
    "    L, P = si.split('||')\n",
    "    if i == 0: \n",
    "        # букви горизонтальної шапки таблиці\n",
    "        hchs = P.replace('|', ' ').split()\n",
    "        continue\n",
    "    chs = L.replace(' ', '')  # початкова пара букв не шапкового рядка\n",
    "    for ch, prob in zip(hchs, P.split()):\n",
    "        prob = float(prob)  # round(, 5)\n",
    "        if '_' in chs + ch:  # or prob < 0.005:  # ???\n",
    "            continue  # пропускання комбінацій з пробілами\n",
    "        # добавляння відповідної імовірності в вкладений словник\n",
    "        chs_ch_probs.setdefault(chs, {})[ch] = prob\n",
    "print(f'{len(chs_ch_probs) = }')\n",
    "print(f'{chs_ch_probs[\"AN\"][\"D\"] = }')\n",
    "# pprint(chs_ch_probs)  # Закоментовано після перевірки наявності"
   ]
  },
  {
   "cell_type": "code",
   "execution_count": 6,
   "metadata": {},
   "outputs": [],
   "source": [
    "from random import randrange \n",
    "\n",
    "def sxrest(osob1,osob2):\n",
    "    # розділення кожної особини/коду на дві групи сиволів, що \n",
    "    # знаходились на непарних и парних позиціях особини/коду відповідно\n",
    "    # odds - парні і нульи, evens - непарні\n",
    "    osob1_odds, osob1_evens = zip(*[osob1[i:i+2] for i in range(0, len(osob1), 2)])\n",
    "    osob2_odds, osob2_evens = zip(*[osob2[i:i+2] for i in range(0, len(osob2), 2)])\n",
    "    # одержуємо нащадків шляхом схрещення батьківських груп символів\n",
    "    chld1 = list(sum(zip(osob1_odds, osob2_evens), ()))\n",
    "    chld2 = list(sum(zip(osob2_odds, osob1_evens), ()))\n",
    "    # знаходимо символи, що повторюються в нащадках\n",
    "    povt1 = [c for c, n in Counter(chld1).items() if n > 1]\n",
    "    povt2 = [c for c, n in Counter(chld2).items() if n > 1]\n",
    "    # обмінюємо між нащадками символи, що повторюються в нащадках\n",
    "    for c1, c2 in zip(povt1, povt2):\n",
    "        chld1[chld1.index(c1)], chld2[chld2.index(c2)] = c2, c1\n",
    "    return ''.join(chld1), ''.join(chld2)  # повертаємо нащадків\n",
    "\n",
    "def mut3(osob):\n",
    "    # мутації шляхом перестанови довільних двох сусідніх символів\n",
    "    if randrange(4):\n",
    "        p1 = randrange(len(osob) - 1) \n",
    "        osob = osob[:p1] + osob[p1 + 1:p1 + 2] + osob[p1:p1 + 1] + osob[p1 + 2:]\n",
    "        if randrange(3):\n",
    "            p1 = randrange(len(osob) - 1) \n",
    "            osob = osob[:p1] + osob[p1 + 1:p1 + 2] + osob[p1:p1 + 1] + osob[p1 + 2:]\n",
    "            p1 = randrange(len(osob) - 1) \n",
    "            osob = osob[:p1] + osob[p1 + 1:p1 + 2] + osob[p1:p1 + 1] + osob[p1 + 2:]\n",
    "    return osob"
   ]
  },
  {
   "cell_type": "code",
   "execution_count": 7,
   "metadata": {},
   "outputs": [
    {
     "name": "stdout",
     "output_type": "stream",
     "text": [
      "osob='ETAOINSHRDLCUMWFGYPBVKXJQZ', fit=702.62, fit0=0, mes[:50]='AWWTNEAFOROTCTIWELOUNEDASCKOSWIGUIRCARUNAFETOLHMFH'\n",
      "osob='ETAONISRHDLUCMFWGYPBVKXJQZ', fit=695.63, fit0=0, mes[:50]='AFFTIEAWOHOTUTNFELOCIEDASUKOSFNGCNHUAHCIAWETOLRMWR'\n",
      "osob='ETAINROSHDLCFUMGPWBYVKQXJZ', fit=722.89, fit0=0, mes[:50]='AMMTREAGIHITCTNMELIFREDAOCKIOMNPFNHCAHFRAGETILSUGS'\n",
      "osob='ESIARNTOLCDUGPMHBYFVKWZXJQ', fit=719.32, fit0=0, mes[:50]='IMMSNEIHALASUSRMEDAGNECITUWATMRBGRLUILGNIHESADOPHO'\n"
     ]
    }
   ],
   "source": [
    "\n",
    "# Функція визначення числового значення якості особини/коду \n",
    "def fitnes(osob):\n",
    "    # одержуємо декодоване повідомленн\n",
    "    mes = get_mes_decode(mess0, get_dict_decode(osob, mes_frequ_str))\n",
    "    fit0 = end and sum(a != b for a, b in zip(end, mes)) or 0\n",
    "    # розбиваємо повідомлення на послідовні трійки символів, \n",
    "    # для одержання імовірностей слідування \n",
    "    # за парою символів символа в декодованому повідомлені\n",
    "    ch2_ch1_cnts = {}\n",
    "    for ch3 in [mes[i:i+3] for i in range(len(mes)-3)]:\n",
    "        ch2, ch1 = ch3[:-1], ch3[-1]  # розділення трійки на пару і символ\n",
    "#        ch2_ch1_cnts.setdefault(ch2, {}).setdefault(ch1, 0)\n",
    "        if ch2 not in ch2_ch1_cnts:\n",
    "            ch2_ch1_cnts[ch2] = {}\n",
    "        if ch1 not in ch2_ch1_cnts[ch2]:\n",
    "            ch2_ch1_cnts[ch2][ch1] = 0\n",
    "        ch2_ch1_cnts[ch2][ch1] += 1\n",
    "    # перерахунок кількостей в імовірності\n",
    "    for ch2, ch1_cnts in ch2_ch1_cnts.items():\n",
    "        ch_vals = sum(ch1_cnts.values())\n",
    "        for ch1 in ch1_cnts:\n",
    "            ch2_ch1_cnts[ch2][ch1] /= ch_vals\n",
    "    # підрахунок суми модулів різниць одержаних і табличних імовірностей\n",
    "    fit = 0\n",
    "    for ch2, ch1_cnts in ch2_ch1_cnts.items():\n",
    "        for ch1, prob in ch1_cnts.items():\n",
    "            fit += abs(prob - chs_ch_probs[ch2][ch1]) / (prob / 2 + chs_ch_probs[ch2][ch1])\n",
    "    return fit, osob, mes, fit0\n",
    "    \n",
    "# перевірка фітнес-функції на початкових особинах/кодах\n",
    "for en_chrs in en_chrs0:\n",
    "    fit, osob, mes, fit0 = fitnes(en_chrs)\n",
    "    print(f'{osob=}, {fit=:.2f}, {fit0=}, {mes[:50]=}')"
   ]
  },
  {
   "cell_type": "code",
   "execution_count": 10,
   "metadata": {},
   "outputs": [
    {
     "name": "stdout",
     "output_type": "stream",
     "text": [
      "покоління 1 2 3 4 5 6 7 8 9 10 11 12 \n",
      " 1: 577.05 106 ETAIOHNSLRCMDUGBPFWZXYVQKJ\n",
      "AGGTHEABILITMTOGECIDHERANMYINGOPDOLMALDHABETICSUBSTITUTIONCIDHERSTHEONEUSEGINTHECIDHERTEXTSHEREHASTWENTMSIXINGEDENGENTRANGOZLMCHOSENZONOALDHABETICSUBSTITUTIONDATTERNSPOREACHLETTERPROZENFLISHALDHABETITISCLEARTHATMOUCANNOLONFERRELMONTHESAZESIZDLEROUTINEOPFUESSINFTHEYEMBMEXHAUSTIVESEARCHWHICHMOUDROBABLMUSEGTOGECIDHERTHEDREVIOUSDARAFRADHWILLTHEINGEXOPCOINCIGENCESTILLWORYASASUFFESTIONMOUCANTRMTOGIVIGETHEZESSAFEINDARTSBMTHENUZBEROPCHARACTERSINAYEMANGADDLMPREQUENCMANALMSISTOEACHOPTHEZCANMOUPINGAWAMTOUSEHIFHERORGERPREQUENCMSTATISTICSWITHTHISTMDEOPCIDHERTHENEXTZAFICALWORGWILLTAYETOTHENEXTLABENKOMBITLMSLASHTWOCADITALMCADITALKCADITALBLCADITALMCADITALL\n",
      " 2: 577.06 99 ETAIOHNSLRCBDUPMFGWKXYVQZJ\n",
      "APPTHEAMILITBTOPECIDHERANBYINPOFDOLBALDHAMETICSUMSTITUTIONCIDHERSTHEONEUSEPINTHECIDHERTEXTSHEREHASTWENTBSIXINPEDENPENTRANPOKLBCHOSENKONOALDHAMETICSUMSTITUTIONDATTERNSFOREACHLETTERFROKENGLISHALDHAMETITISCLEARTHATBOUCANNOLONGERRELBONTHESAKESIKDLEROUTINEOFGUESSINGTHEYEBMBEXHAUSTIVESEARCHWHICHBOUDROMAMLBUSEPTOPECIDHERTHEDREVIOUSDARAGRADHWILLTHEINPEXOFCOINCIPENCESTILLWORYASASUGGESTIONBOUCANTRBTOPIVIPETHEKESSAGEINDARTSMBTHENUKMEROFCHARACTERSINAYEBANPADDLBFREQUENCBANALBSISTOEACHOFTHEKCANBOUFINPAWABTOUSEHIGHERORPERFREQUENCBSTATISTICSWITHTHISTBDEOFCIDHERTHENEXTKAGICALWORPWILLTAYETOTHENEXTLAMENZOBMITLBSLASHTWOCADITALBCADITALZCADITALMLCADITALBCADITALL\n",
      " 3: 577.18 120 ETAIOHNSLRCBDUGMPFWZXYVQKJ\n",
      "AGGTHEAMILITBTOGECIDHERANBYINGOPDOLBALDHAMETICSUMSTITUTIONCIDHERSTHEONEUSEGINTHECIDHERTEXTSHEREHASTWENTBSIXINGEDENGENTRANGOZLBCHOSENZONOALDHAMETICSUMSTITUTIONDATTERNSPOREACHLETTERPROZENFLISHALDHAMETITISCLEARTHATBOUCANNOLONFERRELBONTHESAZESIZDLEROUTINEOPFUESSINFTHEYEBMBEXHAUSTIVESEARCHWHICHBOUDROMAMLBUSEGTOGECIDHERTHEDREVIOUSDARAFRADHWILLTHEINGEXOPCOINCIGENCESTILLWORYASASUFFESTIONBOUCANTRBTOGIVIGETHEZESSAFEINDARTSMBTHENUZMEROPCHARACTERSINAYEBANGADDLBPREQUENCBANALBSISTOEACHOPTHEZCANBOUPINGAWABTOUSEHIFHERORGERPREQUENCBSTATISTICSWITHTHISTBDEOPCIDHERTHENEXTZAFICALWORGWILLTAYETOTHENEXTLAMENKOBMITLBSLASHTWOCADITALBCADITALKCADITALMLCADITALBCADITALL\n",
      " 4: 577.24 120 ETAIOHNSLRCBDUGMPFWKXYVQZJ\n",
      "AGGTHEAMILITBTOGECIDHERANBYINGOPDOLBALDHAMETICSUMSTITUTIONCIDHERSTHEONEUSEGINTHECIDHERTEXTSHEREHASTWENTBSIXINGEDENGENTRANGOKLBCHOSENKONOALDHAMETICSUMSTITUTIONDATTERNSPOREACHLETTERPROKENFLISHALDHAMETITISCLEARTHATBOUCANNOLONFERRELBONTHESAKESIKDLEROUTINEOPFUESSINFTHEYEBMBEXHAUSTIVESEARCHWHICHBOUDROMAMLBUSEGTOGECIDHERTHEDREVIOUSDARAFRADHWILLTHEINGEXOPCOINCIGENCESTILLWORYASASUFFESTIONBOUCANTRBTOGIVIGETHEKESSAFEINDARTSMBTHENUKMEROPCHARACTERSINAYEBANGADDLBPREQUENCBANALBSISTOEACHOPTHEKCANBOUPINGAWABTOUSEHIFHERORGERPREQUENCBSTATISTICSWITHTHISTBDEOPCIDHERTHENEXTKAFICALWORGWILLTAYETOTHENEXTLAMENZOBMITLBSLASHTWOCADITALBCADITALZCADITALMLCADITALBCADITALL\n",
      " 5: 577.38 99 ETAIOHNSLRCBDUPMFGWZXYVQKJ\n",
      "APPTHEAMILITBTOPECIDHERANBYINPOFDOLBALDHAMETICSUMSTITUTIONCIDHERSTHEONEUSEPINTHECIDHERTEXTSHEREHASTWENTBSIXINPEDENPENTRANPOZLBCHOSENZONOALDHAMETICSUMSTITUTIONDATTERNSFOREACHLETTERFROZENGLISHALDHAMETITISCLEARTHATBOUCANNOLONGERRELBONTHESAZESIZDLEROUTINEOFGUESSINGTHEYEBMBEXHAUSTIVESEARCHWHICHBOUDROMAMLBUSEPTOPECIDHERTHEDREVIOUSDARAGRADHWILLTHEINPEXOFCOINCIPENCESTILLWORYASASUGGESTIONBOUCANTRBTOPIVIPETHEZESSAGEINDARTSMBTHENUZMEROFCHARACTERSINAYEBANPADDLBFREQUENCBANALBSISTOEACHOFTHEZCANBOUFINPAWABTOUSEHIGHERORPERFREQUENCBSTATISTICSWITHTHISTBDEOFCIDHERTHENEXTZAGICALWORPWILLTAYETOTHENEXTLAMENKOBMITLBSLASHTWOCADITALBCADITALKCADITALMLCADITALBCADITALL\n"
     ]
    }
   ],
   "source": [
    "import itertools\n",
    "# встановлення початкової популяції\n",
    "cur_osobs = en_chrs0\n",
    "pok = 0\n",
    "# застосуємо генетичний алгоритм до поточної популяції декілька раз\n",
    "print(end='покоління ')\n",
    "old_fit = -1\n",
    "old_count = 0\n",
    "for i in range(25):\n",
    "    pok += 1\n",
    "    print(end=f'{pok} ')\n",
    "    # одержання всіх комбінацій по два предки з поточної популяції\n",
    "    two_osobs = itertools.combinations(cur_osobs, 2)\n",
    "    # одержання всіх нащадків після зхрещення 6 пар предків\n",
    "    chlds = sum((sxrest(*two_osob) for two_osob in two_osobs), ())\n",
    "    # застосування мутацій до кожного нащадка та видалення близнюків\n",
    "    new_osobs = set(mut3(chld) for chld in chlds) | set(cur_osobs)  # можна добавити предків\n",
    "    # одержання найкращих по значенню фітнес функції результатів еволюції\n",
    "    rez = sorted(fitnes(osob) for osob in new_osobs)[:50]\n",
    "    if old_fit != round(rez[0][0], 5):\n",
    "        old_fit = round(rez[0][0], 5)\n",
    "        old_count = 0\n",
    "    else:\n",
    "        old_count += 1\n",
    "        if old_count > 2:\n",
    "            break\n",
    "    cur_osobs = [t[1] for t in rez]\n",
    "print()\n",
    "for i, (fit, osob, mes, fit0) in enumerate(rez[:5], 1):\n",
    "    print(f'{i:2}: {fit:.2f} {fit0} {osob}\\n{mes}')\n"
   ]
  },
  {
   "cell_type": "code",
   "execution_count": 9,
   "metadata": {},
   "outputs": [],
   "source": [
    "end = ''.join('''ADD THE ABILITY TO DECIPHER ANY KIND OF POLY ALPHABETIC \n",
    "SUBSTITUTION CIPHERS THE ONE USED IN THE CIPHER TEXT SHERE HAS TWENTY SIX \n",
    "INDEPENDEN TRANDOMLY CHOSEN MONO ALPHABETIC SUBSTITUTION PATTERN SFOR EACH \n",
    "LETTER FROM ENGLISH ALPHABET IT IS CLEAR THAT YOU CAN NO LONGER RELY ON THE \n",
    "SAME SIMPLE ROUTINE OF GUESSING THE KEY BY EXHAUSTIVE SEARCH WHICH YOU \n",
    "PROBABLY USED TO DECIPHER THE PREVIOUS PARAGRAPH WILL THE INDEX OF COINCIDENCES \n",
    "TILL WORKA SASUGGESTION YOU CAN TRY TO DIVIDE THE MESSAGE IN PARTS BY THE \n",
    "NUMBER OF CHARACTERS IN A KEY AND APPLY FREQUENCY ANALYSIS TO EACH OF THE \n",
    "MCAN YOU FIND A WAY TO USE HIGHER ORDER FREQUENCY STATISTICS WITH THIS TYPE \n",
    "OF CIPHER THE NEXT MAGICAL WORD WILL TAKE TO THE NEXT LABEN JOY BITLY SLASH \n",
    "TWO CAPITAL Y CAPITAL J CAPITAL BL CAPITAL Y CAPITAL L'''.split())\n",
    "# bit.ly/2YJBlYL"
   ]
  }
 ],
 "metadata": {
  "interpreter": {
   "hash": "0f65c23eede5476679184682c503c84731cf692a5e00e0b01124a2cec60a7327"
  },
  "kernelspec": {
   "display_name": "Python 3.8.8 32-bit",
   "name": "python3"
  },
  "language_info": {
   "codemirror_mode": {
    "name": "ipython",
    "version": 3
   },
   "file_extension": ".py",
   "mimetype": "text/x-python",
   "name": "python",
   "nbconvert_exporter": "python",
   "pygments_lexer": "ipython3",
   "version": "3.8.8"
  }
 },
 "nbformat": 4,
 "nbformat_minor": 2
}
