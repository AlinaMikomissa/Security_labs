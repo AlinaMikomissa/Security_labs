{
 "cells": [
  {
   "cell_type": "code",
   "execution_count": 7,
   "metadata": {},
   "outputs": [],
   "source": [
    "from random import randrange, random\n",
    "from time import strptime, mktime\n",
    "import requests\n",
    "\n",
    "idRand = None                    # ідентефікатор аккаунта\n",
    "account = None      \n",
    "\n",
    "N = 624                          \n",
    "M = 397                          \n",
    "\n",
    "MATRIX_A = 0x9908B0DF            \n",
    "UPPER_MASK = 0x80000000          \n",
    "LOWER_MASK = 0X7FFFFFFF          \n",
    "DEFAULT_SEED = 5489              \n",
    "\n",
    "mt = [0 for i in range(N + 1)]   \n",
    "mtiSize = N + 1                  \n",
    "\n",
    "modulus = 2 ** 32                \n",
    "a = c = 0                        "
   ]
  },
  {
   "cell_type": "code",
   "execution_count": null,
   "metadata": {},
   "outputs": [],
   "source": [
    "def tempering(y):                \n",
    "    y ^= y >> 11                 \n",
    "    y ^= y << 7  & 0x9d2c5680\n",
    "    y ^= y << 15 & 0xefc60000\n",
    "    y ^= y >> 18\n",
    "    return y\n",
    "\n",
    "def unTempering(y):           \n",
    "    y ^= y >> 18\n",
    "    y ^= y << 15 & 0xefc60000\n",
    "    y ^= y << 7  & 0x9d2c5680\n",
    "    y ^= y << 14 & 0x94284000\n",
    "    y ^= y << 21 & 0x14200000\n",
    "    y ^= y << 28 & 0x10000000\n",
    "    y ^= y >> 11 ^ y >> 22\n",
    "    return y"
   ]
  }
 ],
 "metadata": {
  "interpreter": {
   "hash": "0f65c23eede5476679184682c503c84731cf692a5e00e0b01124a2cec60a7327"
  },
  "kernelspec": {
   "display_name": "Python 3.8.8 32-bit",
   "language": "python",
   "name": "python3"
  },
  "language_info": {
   "codemirror_mode": {
    "name": "ipython",
    "version": 3
   },
   "file_extension": ".py",
   "mimetype": "text/x-python",
   "name": "python",
   "nbconvert_exporter": "python",
   "pygments_lexer": "ipython3",
   "version": "3.8.8"
  },
  "orig_nbformat": 4
 },
 "nbformat": 4,
 "nbformat_minor": 2
}
