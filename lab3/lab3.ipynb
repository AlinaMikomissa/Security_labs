{
 "cells": [
  {
   "cell_type": "code",
   "execution_count": 1,
   "metadata": {},
   "outputs": [],
   "source": [
    "from random import randrange, random\n",
    "from time import strptime, mktime\n",
    "import requests\n",
    "\n",
    "idRand = None                    # ідентефікатор аккаунта\n",
    "account = None                   # для Bet\n",
    "\n",
    "\n",
    "def createAccount():\n",
    "    global idRand, account\n",
    "    for i in range(10):  # десять спроб створити account\n",
    "        idRand = randrange(30000) \n",
    "        response = requests.get('http://95.217.177.249/casino/createacc',\n",
    "                                        params=dict(id=idRand))\n",
    "        account = response.json()\n",
    "        print(account)\n",
    "        if \"error\" not in account:\n",
    "            break\n",
    "    else:\n",
    "        idRand = None\n",
    "        account = None\n",
    "\n",
    "\n",
    "def makeBet(mode, betAmount, number):\n",
    "    response = requests.get(f'http://95.217.177.249/casino/play{mode}',\n",
    "                        params=dict(id=idRand, bet=betAmount, number=number))\n",
    "    bet = response.json()\n",
    "    print(bet)\n",
    "    return bet.get('realNumber')"
   ]
  },
  {
   "cell_type": "code",
   "execution_count": 2,
   "metadata": {},
   "outputs": [],
   "source": [
    "modulus = 2 ** 32                # константа для LCG\n",
    "a = c = 0                        # для LCG\n",
    "\n",
    "def modInv(a, n): # для LCG\n",
    "    i, v, d = n, 0, 1\n",
    "    while a > 0:\n",
    "        i, t, a = a, *divmod(i, a)\n",
    "        v, d = d, v - t * d\n",
    "    return (v + n) % n\n",
    "\n",
    "def modInv(a, n): # для LCG\n",
    "    i, v, d = n, 0, 1\n",
    "    while a > 0:\n",
    "        i, t, a = a, *divmod(i, a)\n",
    "        v, d = d, v - t * d\n",
    "    return (v + n) % n\n",
    "\n",
    "\n",
    "def findVariables(numbers): # для LCG\n",
    "    diff1 = numbers[2] - numbers[1]\n",
    "    diff2 = numbers[1] - numbers[0]\n",
    "    inverse = modInv(diff2, modulus)\n",
    "    a = (diff1 * inverse) % modulus\n",
    "    c = (numbers[1] - a * numbers[0]) % modulus\n",
    "    print(f\"{a = }\")\n",
    "    print(f\"{c = }\")\n",
    "    return a, c\n",
    "\n",
    "\n",
    "def lcg_next(last, a, c):\n",
    "    return (a * last + c) % modulus\n",
    "\n",
    "\n",
    "def LcgCrack():\n",
    "    numbers = []\n",
    "    for i in range(3):\n",
    "        numbers.append(makeBet(\"Lcg\", 1, 1))\n",
    "    a, c = findVariables(numbers)\n",
    "    next = lcg_next(numbers[2], a, c)  # беремо останній номер і вкладаємо його в рівняння і отримуємо наступне число\n",
    "    print(f\"Передбачене наступне число = {next}\")\n",
    "    makeBet(\"Lcg\", 500, next)\n",
    "    next = lcg_next(next, a, c)\n",
    "    print(f\"Передбачене наступне число = {next}\")\n",
    "    makeBet(\"Lcg\", 501, next)\n"
   ]
  },
  {
   "cell_type": "code",
   "execution_count": 8,
   "metadata": {},
   "outputs": [
    {
     "name": "stdout",
     "output_type": "stream",
     "text": [
      "{'id': '2576', 'money': 1000, 'deletionTime': '2021-12-26T21:16:33.1407466Z'}\n",
      "{'message': 'You lost this time', 'account': {'id': '2576', 'money': 999, 'deletionTime': '2021-12-26T21:16:33.1407466Z'}, 'realNumber': 1246268044}\n",
      "{'message': 'You lost this time', 'account': {'id': '2576', 'money': 998, 'deletionTime': '2021-12-26T21:16:33.1407466Z'}, 'realNumber': 1895679099}\n",
      "{'message': 'You lost this time', 'account': {'id': '2576', 'money': 997, 'deletionTime': '2021-12-26T21:16:33.1407466Z'}, 'realNumber': 1167978398}\n",
      "a = 1664525\n",
      "c = 1013904223\n",
      "Передбачене наступне число = 425398885\n",
      "{'message': 'Yay! https://docs.google.com/document/d/1jhf3P6Iob5fxN4EkM9illeYgAnzwmaCJ2SbSkzpftH4/edit', 'account': {'id': '2576', 'money': 500497, 'deletionTime': '2021-12-26T21:16:33.1407466Z'}, 'realNumber': 425398885}\n",
      "Передбачене наступне число = 2604671104\n",
      "{'type': 'https://tools.ietf.org/html/rfc7231#section-6.5.1', 'title': 'One or more validation errors occurred.', 'status': 400, 'traceId': '|9c33cc47-4f1a57ad4f8c317b.', 'errors': {'number': [\"The value '2604671104' is not valid.\"]}}\n"
     ]
    }
   ],
   "source": [
    "createAccount()\n",
    "account and LcgCrack()"
   ]
  }
 ],
 "metadata": {
  "interpreter": {
   "hash": "0f65c23eede5476679184682c503c84731cf692a5e00e0b01124a2cec60a7327"
  },
  "kernelspec": {
   "display_name": "Python 3.8.8 32-bit",
   "language": "python",
   "name": "python3"
  },
  "language_info": {
   "codemirror_mode": {
    "name": "ipython",
    "version": 3
   },
   "file_extension": ".py",
   "mimetype": "text/x-python",
   "name": "python",
   "nbconvert_exporter": "python",
   "pygments_lexer": "ipython3",
   "version": "3.8.8"
  },
  "orig_nbformat": 4
 },
 "nbformat": 4,
 "nbformat_minor": 2
}
